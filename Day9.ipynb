{
  "cells": [
    {
      "cell_type": "markdown",
      "metadata": {
        "id": "view-in-github",
        "colab_type": "text"
      },
      "source": [
        "<a href=\"https://colab.research.google.com/github/Prashanth-557/ML-Training/blob/main/Day9.ipynb\" target=\"_parent\"><img src=\"https://colab.research.google.com/assets/colab-badge.svg\" alt=\"Open In Colab\"/></a>"
      ]
    },
    {
      "cell_type": "code",
      "execution_count": null,
      "id": "b01a52e3-c240-4046-91ab-9a3ae7649e01",
      "metadata": {
        "id": "b01a52e3-c240-4046-91ab-9a3ae7649e01"
      },
      "outputs": [],
      "source": [
        "import pandas as pd\n",
        "import numpy as np"
      ]
    },
    {
      "cell_type": "code",
      "execution_count": null,
      "id": "427c39cb-b247-4bd1-b4af-fed2abbc6d9c",
      "metadata": {
        "id": "427c39cb-b247-4bd1-b4af-fed2abbc6d9c",
        "outputId": "2501c994-f69a-4d21-a767-1c6d11dca085"
      },
      "outputs": [
        {
          "data": {
            "text/plain": [
              "array([40, 39, 49, 34, 37, 32, 46, 40, 30, 39, 42, 38, 30, 49, 49])"
            ]
          },
          "execution_count": 43,
          "metadata": {},
          "output_type": "execute_result"
        }
      ],
      "source": [
        "a=np.random.randint(30,50,15)\n",
        "a"
      ]
    },
    {
      "cell_type": "code",
      "execution_count": null,
      "id": "d134ea23-d9c4-45fc-83a3-a3661ed6d957",
      "metadata": {
        "id": "d134ea23-d9c4-45fc-83a3-a3661ed6d957",
        "outputId": "0a4957cf-b1f0-4f6c-c0fe-90392d6278e0"
      },
      "outputs": [
        {
          "data": {
            "text/plain": [
              "1"
            ]
          },
          "execution_count": 45,
          "metadata": {},
          "output_type": "execute_result"
        }
      ],
      "source": [
        "a.ndim"
      ]
    },
    {
      "cell_type": "code",
      "execution_count": null,
      "id": "eba4746f-9c16-4eb4-a317-20232b571171",
      "metadata": {
        "id": "eba4746f-9c16-4eb4-a317-20232b571171",
        "outputId": "ff314e4b-159c-4db2-a327-37913fe483cd"
      },
      "outputs": [
        {
          "data": {
            "text/plain": [
              "30"
            ]
          },
          "execution_count": 47,
          "metadata": {},
          "output_type": "execute_result"
        }
      ],
      "source": [
        "a[12]"
      ]
    },
    {
      "cell_type": "code",
      "execution_count": null,
      "id": "262da60c-8563-439c-b401-0e6430207a84",
      "metadata": {
        "id": "262da60c-8563-439c-b401-0e6430207a84",
        "outputId": "06f112c5-4467-4f7f-c06e-9e5d9a73a439"
      },
      "outputs": [
        {
          "data": {
            "text/plain": [
              "30"
            ]
          },
          "execution_count": 49,
          "metadata": {},
          "output_type": "execute_result"
        }
      ],
      "source": [
        "a[-3]"
      ]
    },
    {
      "cell_type": "code",
      "execution_count": null,
      "id": "3681bdb4-82e2-44d2-b138-e9cc38e29470",
      "metadata": {
        "id": "3681bdb4-82e2-44d2-b138-e9cc38e29470",
        "outputId": "b8b7b43f-8a9e-4146-a74f-a4af7df755ce"
      },
      "outputs": [
        {
          "data": {
            "text/plain": [
              "array([], dtype=int32)"
            ]
          },
          "execution_count": 51,
          "metadata": {},
          "output_type": "execute_result"
        }
      ],
      "source": [
        "a[13:-3]"
      ]
    },
    {
      "cell_type": "code",
      "execution_count": null,
      "id": "ee7eff3a-dfdb-4f93-8a18-12acc9422927",
      "metadata": {
        "id": "ee7eff3a-dfdb-4f93-8a18-12acc9422927",
        "outputId": "e8f58b53-8756-4325-db50-8fa3beea0c01"
      },
      "outputs": [
        {
          "data": {
            "text/plain": [
              "(58, 31, 39, 59, 52, 39, 39, 52)"
            ]
          },
          "execution_count": 53,
          "metadata": {},
          "output_type": "execute_result"
        }
      ],
      "source": [
        "58,31,39,59,52,39,39,52\n"
      ]
    },
    {
      "cell_type": "code",
      "execution_count": null,
      "id": "ebfb2d7a-e0b0-437a-9926-fc2d2a445cde",
      "metadata": {
        "id": "ebfb2d7a-e0b0-437a-9926-fc2d2a445cde",
        "outputId": "402804fa-fdff-41c5-ec30-045405f6cad7"
      },
      "outputs": [
        {
          "data": {
            "text/plain": [
              "array([49, 30, 38, 42, 39, 30, 40, 46])"
            ]
          },
          "execution_count": 55,
          "metadata": {},
          "output_type": "execute_result"
        }
      ],
      "source": [
        "a[-2:-10:-1]"
      ]
    },
    {
      "cell_type": "code",
      "execution_count": null,
      "id": "d99c62b6-d883-4456-9350-990356631d15",
      "metadata": {
        "id": "d99c62b6-d883-4456-9350-990356631d15",
        "outputId": "9a845e55-8ab8-4073-a0f4-cba6e05ea588"
      },
      "outputs": [
        {
          "data": {
            "text/plain": [
              "array([[63, 45, 48, 67, 74, 64, 61, 53],\n",
              "       [61, 59, 55, 77, 69, 69, 48, 60],\n",
              "       [71, 56, 51, 58, 59, 47, 68, 77],\n",
              "       [46, 45, 52, 74, 65, 53, 60, 55],\n",
              "       [64, 72, 46, 69, 65, 75, 75, 51],\n",
              "       [75, 67, 53, 77, 60, 67, 67, 47],\n",
              "       [75, 54, 74, 69, 54, 64, 52, 61]])"
            ]
          },
          "execution_count": 57,
          "metadata": {},
          "output_type": "execute_result"
        }
      ],
      "source": [
        "np.random.seed(94)\n",
        "b=np.random.randint(45,78,(7,8))\n",
        "b"
      ]
    },
    {
      "cell_type": "code",
      "execution_count": null,
      "id": "28cf8777-988c-456a-b3cf-94693e0c3150",
      "metadata": {
        "id": "28cf8777-988c-456a-b3cf-94693e0c3150",
        "outputId": "f678c36c-287b-49f6-a5d4-d215aaf1af34"
      },
      "outputs": [
        {
          "data": {
            "text/plain": [
              "47"
            ]
          },
          "execution_count": 59,
          "metadata": {},
          "output_type": "execute_result"
        }
      ],
      "source": [
        "b[2,5]"
      ]
    },
    {
      "cell_type": "code",
      "execution_count": null,
      "id": "50c9f76b-26c5-4118-828c-6a731d5d4036",
      "metadata": {
        "id": "50c9f76b-26c5-4118-828c-6a731d5d4036",
        "outputId": "adaa25ec-e70f-467f-e9a6-6c2ca275cbe5"
      },
      "outputs": [
        {
          "data": {
            "text/plain": [
              "67"
            ]
          },
          "execution_count": 61,
          "metadata": {},
          "output_type": "execute_result"
        }
      ],
      "source": [
        "b[5,6]"
      ]
    },
    {
      "cell_type": "code",
      "execution_count": null,
      "id": "497e9062-fc16-4b9c-a793-3af2213c2bfd",
      "metadata": {
        "id": "497e9062-fc16-4b9c-a793-3af2213c2bfd",
        "outputId": "33d7eec6-49b2-4f5b-d1e0-431c3412e427"
      },
      "outputs": [
        {
          "data": {
            "text/plain": [
              "65"
            ]
          },
          "execution_count": 63,
          "metadata": {},
          "output_type": "execute_result"
        }
      ],
      "source": [
        "b[3,4]"
      ]
    },
    {
      "cell_type": "code",
      "execution_count": null,
      "id": "521a901a-844e-4053-9e14-587afeb839b1",
      "metadata": {
        "id": "521a901a-844e-4053-9e14-587afeb839b1",
        "outputId": "5db73fbe-853e-425d-e561-dc27de1a7b54"
      },
      "outputs": [
        {
          "data": {
            "text/plain": [
              "array([[59, 55, 77, 69, 69, 48],\n",
              "       [56, 51, 58, 59, 47, 68],\n",
              "       [45, 52, 74, 65, 53, 60],\n",
              "       [72, 46, 69, 65, 75, 75],\n",
              "       [67, 53, 77, 60, 67, 67],\n",
              "       [54, 74, 69, 54, 64, 52]])"
            ]
          },
          "execution_count": 65,
          "metadata": {},
          "output_type": "execute_result"
        }
      ],
      "source": [
        "b[1:,1:7]"
      ]
    },
    {
      "cell_type": "code",
      "execution_count": null,
      "id": "082ce1a7-a13e-47e0-a896-27de6d03651f",
      "metadata": {
        "id": "082ce1a7-a13e-47e0-a896-27de6d03651f",
        "outputId": "f3f66e46-754c-4eb2-84c9-268c29994461"
      },
      "outputs": [
        {
          "data": {
            "text/plain": [
              "array([[33, 15, 18, 37, 44, 34, 31, 23],\n",
              "       [31, 29, 48, 25, 47, 39, 39, 18],\n",
              "       [30, 41, 26, 21, 28, 29, 17, 38],\n",
              "       [49, 47, 16, 15, 48, 22, 44, 35],\n",
              "       [23, 30, 25, 34, 42, 16, 39, 35],\n",
              "       [45, 45, 21, 45, 37, 48, 23, 47],\n",
              "       [30, 37, 37, 17, 45, 24, 44, 39]])"
            ]
          },
          "execution_count": 67,
          "metadata": {},
          "output_type": "execute_result"
        }
      ],
      "source": [
        "np.random.seed(94)\n",
        "b=np.random.randint(15,50,(7,8))\n",
        "b"
      ]
    },
    {
      "cell_type": "code",
      "execution_count": null,
      "id": "9ba78fc2-1ed9-428b-b7ab-23033a8fafd0",
      "metadata": {
        "id": "9ba78fc2-1ed9-428b-b7ab-23033a8fafd0",
        "outputId": "00ed8363-86dc-4085-ff1a-8f199112b2ee"
      },
      "outputs": [
        {
          "data": {
            "text/plain": [
              "array([[29, 48, 25, 47, 39, 39],\n",
              "       [41, 26, 21, 28, 29, 17],\n",
              "       [47, 16, 15, 48, 22, 44],\n",
              "       [30, 25, 34, 42, 16, 39],\n",
              "       [45, 21, 45, 37, 48, 23],\n",
              "       [37, 37, 17, 45, 24, 44]])"
            ]
          },
          "execution_count": 69,
          "metadata": {},
          "output_type": "execute_result"
        }
      ],
      "source": [
        "b[1:,1:7]"
      ]
    },
    {
      "cell_type": "code",
      "execution_count": null,
      "id": "0d320ff1-54c0-4f68-a9cd-5689b2e185dd",
      "metadata": {
        "id": "0d320ff1-54c0-4f68-a9cd-5689b2e185dd",
        "outputId": "932cab86-559d-466a-c324-fd1f0d472a7b"
      },
      "outputs": [
        {
          "data": {
            "text/plain": [
              "array([[29, 48, 25, 47, 39, 39],\n",
              "       [41, 26, 21, 28, 29, 17],\n",
              "       [47, 16, 15, 48, 22, 44],\n",
              "       [30, 25, 34, 42, 16, 39],\n",
              "       [45, 21, 45, 37, 48, 23],\n",
              "       [37, 37, 17, 45, 24, 44]])"
            ]
          },
          "execution_count": 71,
          "metadata": {},
          "output_type": "execute_result"
        }
      ],
      "source": [
        "b[-6:,-7:-1]"
      ]
    },
    {
      "cell_type": "code",
      "execution_count": null,
      "id": "ac7252e6-34d1-498e-971e-3b836b89f36a",
      "metadata": {
        "id": "ac7252e6-34d1-498e-971e-3b836b89f36a",
        "outputId": "85d5547c-db9f-45af-d6f4-a13c8c44f71d"
      },
      "outputs": [
        {
          "data": {
            "text/plain": [
              "array([[41, 28, 38],\n",
              "       [30, 42, 35]])"
            ]
          },
          "execution_count": 73,
          "metadata": {},
          "output_type": "execute_result"
        }
      ],
      "source": [
        "b[2:5:2,1::3]"
      ]
    },
    {
      "cell_type": "raw",
      "id": "761f5a0b-9d8a-4d38-8d51-2ab7095b637a",
      "metadata": {
        "id": "761f5a0b-9d8a-4d38-8d51-2ab7095b637a"
      },
      "source": [
        "np.Where(b>30)"
      ]
    },
    {
      "cell_type": "code",
      "execution_count": null,
      "id": "fbf47555-20b4-4c42-ba48-9c544ade5b79",
      "metadata": {
        "id": "fbf47555-20b4-4c42-ba48-9c544ade5b79"
      },
      "outputs": [],
      "source": []
    }
  ],
  "metadata": {
    "kernelspec": {
      "display_name": "Python [conda env:base] *",
      "language": "python",
      "name": "conda-base-py"
    },
    "language_info": {
      "codemirror_mode": {
        "name": "ipython",
        "version": 3
      },
      "file_extension": ".py",
      "mimetype": "text/x-python",
      "name": "python",
      "nbconvert_exporter": "python",
      "pygments_lexer": "ipython3",
      "version": "3.12.7"
    },
    "colab": {
      "provenance": [],
      "include_colab_link": true
    }
  },
  "nbformat": 4,
  "nbformat_minor": 5
}