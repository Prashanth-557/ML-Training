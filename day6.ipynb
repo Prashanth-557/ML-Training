{
  "nbformat": 4,
  "nbformat_minor": 0,
  "metadata": {
    "colab": {
      "provenance": [],
      "include_colab_link": true
    },
    "kernelspec": {
      "name": "python3",
      "display_name": "Python 3"
    },
    "language_info": {
      "name": "python"
    }
  },
  "cells": [
    {
      "cell_type": "markdown",
      "metadata": {
        "id": "view-in-github",
        "colab_type": "text"
      },
      "source": [
        "<a href=\"https://colab.research.google.com/github/Prashanth-557/ML-Training/blob/main/day6.ipynb\" target=\"_parent\"><img src=\"https://colab.research.google.com/assets/colab-badge.svg\" alt=\"Open In Colab\"/></a>"
      ]
    },
    {
      "cell_type": "code",
      "execution_count": null,
      "metadata": {
        "id": "BL_ZTvIbeyaM"
      },
      "outputs": [],
      "source": [
        "wap to know number is +ve -ve or zero"
      ]
    },
    {
      "cell_type": "code",
      "source": [
        "#conditions statements\n",
        "y=int(input(\"Enter any number:\"));\n",
        "if y>0:\n",
        "    print(\"positive\")\n",
        "elif y<0:\n",
        "    print(\"negative\")\n",
        "else:\n",
        "    print(\"zero\")"
      ],
      "metadata": {
        "colab": {
          "base_uri": "https://localhost:8080/"
        },
        "id": "N2zCWF77e-i7",
        "outputId": "3613dfc3-7a34-4dba-f2fb-59da50fd5659"
      },
      "execution_count": null,
      "outputs": [
        {
          "output_type": "stream",
          "name": "stdout",
          "text": [
            "0\n",
            "zero\n"
          ]
        }
      ]
    },
    {
      "cell_type": "code",
      "source": [
        "age=int(input(\"Enter your age:\"));\n",
        "if age>=18:\n",
        "    print(\"eligible for vote\")\n",
        "else:\n",
        "    print(\"not eligible for vote\")"
      ],
      "metadata": {
        "id": "bdl5-u7DfUGk"
      },
      "execution_count": null,
      "outputs": []
    },
    {
      "cell_type": "code",
      "source": [],
      "metadata": {
        "id": "I7CW7BXHfxts"
      },
      "execution_count": null,
      "outputs": []
    }
  ]
}