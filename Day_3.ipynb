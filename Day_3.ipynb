{
  "nbformat": 4,
  "nbformat_minor": 0,
  "metadata": {
    "colab": {
      "provenance": [],
      "authorship_tag": "ABX9TyM6ax4Az0ZAnvVfTDh6R4Eg",
      "include_colab_link": true
    },
    "kernelspec": {
      "name": "python3",
      "display_name": "Python 3"
    },
    "language_info": {
      "name": "python"
    }
  },
  "cells": [
    {
      "cell_type": "markdown",
      "metadata": {
        "id": "view-in-github",
        "colab_type": "text"
      },
      "source": [
        "<a href=\"https://colab.research.google.com/github/Prashanth-557/ML-Training/blob/main/Day_3.ipynb\" target=\"_parent\"><img src=\"https://colab.research.google.com/assets/colab-badge.svg\" alt=\"Open In Colab\"/></a>"
      ]
    },
    {
      "cell_type": "code",
      "execution_count": null,
      "metadata": {
        "id": "irx5oRvxbnWP"
      },
      "outputs": [],
      "source": [
        "a=['Prashanth',123,'Hyderabad',87,98.876,'lithium']"
      ]
    },
    {
      "cell_type": "code",
      "source": [
        "a[3]"
      ],
      "metadata": {
        "colab": {
          "base_uri": "https://localhost:8080/"
        },
        "id": "liIXo43TXJHg",
        "outputId": "64f6b573-2056-44ed-8538-1f9cf6ac8367"
      },
      "execution_count": null,
      "outputs": [
        {
          "output_type": "execute_result",
          "data": {
            "text/plain": [
              "87"
            ]
          },
          "metadata": {},
          "execution_count": 2
        }
      ]
    },
    {
      "cell_type": "code",
      "source": [
        "a[-3]"
      ],
      "metadata": {
        "colab": {
          "base_uri": "https://localhost:8080/"
        },
        "id": "-4nG6chtXTeO",
        "outputId": "5bc41f4b-8ee4-4f7b-e8d7-5343b5897b9d"
      },
      "execution_count": null,
      "outputs": [
        {
          "output_type": "execute_result",
          "data": {
            "text/plain": [
              "87"
            ]
          },
          "metadata": {},
          "execution_count": 3
        }
      ]
    },
    {
      "cell_type": "code",
      "source": [
        "a[-5]"
      ],
      "metadata": {
        "colab": {
          "base_uri": "https://localhost:8080/"
        },
        "id": "XPNCy5U0XhJk",
        "outputId": "ccc958f4-1f09-4a62-f0b6-56d3ad5d682c"
      },
      "execution_count": null,
      "outputs": [
        {
          "output_type": "execute_result",
          "data": {
            "text/plain": [
              "123"
            ]
          },
          "metadata": {},
          "execution_count": 4
        }
      ]
    },
    {
      "cell_type": "code",
      "source": [
        "a[1]"
      ],
      "metadata": {
        "colab": {
          "base_uri": "https://localhost:8080/"
        },
        "id": "QmJIAlPwXqAM",
        "outputId": "ed5ab82d-9e36-4116-a0bd-e9af9566168c"
      },
      "execution_count": null,
      "outputs": [
        {
          "output_type": "execute_result",
          "data": {
            "text/plain": [
              "123"
            ]
          },
          "metadata": {},
          "execution_count": 6
        }
      ]
    },
    {
      "cell_type": "code",
      "source": [
        "a[1:4]"
      ],
      "metadata": {
        "colab": {
          "base_uri": "https://localhost:8080/"
        },
        "id": "oUctdh3rXyCX",
        "outputId": "aa212c2d-c0d1-4465-c825-1112b87c365a"
      },
      "execution_count": null,
      "outputs": [
        {
          "output_type": "execute_result",
          "data": {
            "text/plain": [
              "[123, 'Hyderabad', 87]"
            ]
          },
          "metadata": {},
          "execution_count": 8
        }
      ]
    },
    {
      "cell_type": "code",
      "source": [
        "a[0]"
      ],
      "metadata": {
        "colab": {
          "base_uri": "https://localhost:8080/",
          "height": 36
        },
        "id": "kz5OQfnaXtyY",
        "outputId": "2d95a9a4-4c39-4a7b-ee48-0df0cd76c6b6"
      },
      "execution_count": null,
      "outputs": [
        {
          "output_type": "execute_result",
          "data": {
            "text/plain": [
              "'Prashanth'"
            ],
            "application/vnd.google.colaboratory.intrinsic+json": {
              "type": "string"
            }
          },
          "metadata": {},
          "execution_count": 7
        }
      ]
    },
    {
      "cell_type": "code",
      "source": [
        "#slicing"
      ],
      "metadata": {
        "id": "3lHH54xNZcx5"
      },
      "execution_count": null,
      "outputs": []
    },
    {
      "cell_type": "code",
      "source": [
        "a[2:6]"
      ],
      "metadata": {
        "colab": {
          "base_uri": "https://localhost:8080/"
        },
        "id": "Ci7KHkLsX2n4",
        "outputId": "3b9aac88-6c91-4ea6-f15e-1cc776481cd1"
      },
      "execution_count": null,
      "outputs": [
        {
          "output_type": "execute_result",
          "data": {
            "text/plain": [
              "['Hyderabad', 87, 98.876, 'lithium']"
            ]
          },
          "metadata": {},
          "execution_count": 9
        }
      ]
    },
    {
      "cell_type": "code",
      "source": [
        "a[2:7]# 7th element will be excludede\n"
      ],
      "metadata": {
        "colab": {
          "base_uri": "https://localhost:8080/"
        },
        "id": "vKGGae2eX8wN",
        "outputId": "aafd3f78-7c81-4996-f7c6-c1d84db3144f"
      },
      "execution_count": null,
      "outputs": [
        {
          "output_type": "execute_result",
          "data": {
            "text/plain": [
              "['Hyderabad', 87, 98.876, 'lithium']"
            ]
          },
          "metadata": {},
          "execution_count": 16
        }
      ]
    },
    {
      "cell_type": "code",
      "source": [
        "\n",
        "a[2:90]"
      ],
      "metadata": {
        "colab": {
          "base_uri": "https://localhost:8080/"
        },
        "id": "ixBsW0aoX-k-",
        "outputId": "73d93bd3-80ca-45cb-d827-eb92de8167e2"
      },
      "execution_count": null,
      "outputs": [
        {
          "output_type": "execute_result",
          "data": {
            "text/plain": [
              "['Hyderabad', 87, 98.876, 'lithium']"
            ]
          },
          "metadata": {},
          "execution_count": 11
        }
      ]
    },
    {
      "cell_type": "code",
      "source": [
        "a[-2:90]"
      ],
      "metadata": {
        "colab": {
          "base_uri": "https://localhost:8080/"
        },
        "id": "Zc2pYXzDYBxC",
        "outputId": "0c2a8522-8360-4476-df49-05066fe990aa"
      },
      "execution_count": null,
      "outputs": [
        {
          "output_type": "execute_result",
          "data": {
            "text/plain": [
              "[98.876, 'lithium']"
            ]
          },
          "metadata": {},
          "execution_count": 12
        }
      ]
    },
    {
      "cell_type": "code",
      "source": [
        "a[-3::90]"
      ],
      "metadata": {
        "colab": {
          "base_uri": "https://localhost:8080/"
        },
        "id": "hwI93nrvYYSQ",
        "outputId": "8a0783b7-9dad-4aed-bdd4-20ffe543930d"
      },
      "execution_count": null,
      "outputs": [
        {
          "output_type": "execute_result",
          "data": {
            "text/plain": [
              "[87]"
            ]
          },
          "metadata": {},
          "execution_count": 13
        }
      ]
    },
    {
      "cell_type": "code",
      "source": [
        "a[-3::90]"
      ],
      "metadata": {
        "colab": {
          "base_uri": "https://localhost:8080/"
        },
        "id": "YSOlkLI1YbsL",
        "outputId": "0b948495-822a-4b27-9cea-5c68a591f33d"
      },
      "execution_count": null,
      "outputs": [
        {
          "output_type": "execute_result",
          "data": {
            "text/plain": [
              "[87]"
            ]
          },
          "metadata": {},
          "execution_count": 14
        }
      ]
    },
    {
      "cell_type": "code",
      "source": [
        "a[-3:90]"
      ],
      "metadata": {
        "colab": {
          "base_uri": "https://localhost:8080/"
        },
        "id": "HBsTbUV2YfTk",
        "outputId": "7ed3c1b5-33ed-46bd-8dfc-bf70ea28f581"
      },
      "execution_count": null,
      "outputs": [
        {
          "output_type": "execute_result",
          "data": {
            "text/plain": [
              "[87, 98.876, 'lithium']"
            ]
          },
          "metadata": {},
          "execution_count": 15
        }
      ]
    },
    {
      "cell_type": "code",
      "source": [
        "a[-7:-2]# -2 idex value will be excluded"
      ],
      "metadata": {
        "colab": {
          "base_uri": "https://localhost:8080/"
        },
        "id": "7RpCw3FJYiwx",
        "outputId": "114f9f13-9895-4f84-e8c8-66a0f1c65a1e"
      },
      "execution_count": null,
      "outputs": [
        {
          "output_type": "execute_result",
          "data": {
            "text/plain": [
              "['Prashanth', 123, 'Hyderabad', 87]"
            ]
          },
          "metadata": {},
          "execution_count": 17
        }
      ]
    },
    {
      "cell_type": "code",
      "source": [
        "type(a)"
      ],
      "metadata": {
        "colab": {
          "base_uri": "https://localhost:8080/"
        },
        "id": "YD-F3jKIY32c",
        "outputId": "2a2755da-903b-4346-d586-f23699c641a8"
      },
      "execution_count": null,
      "outputs": [
        {
          "output_type": "execute_result",
          "data": {
            "text/plain": [
              "list"
            ]
          },
          "metadata": {},
          "execution_count": 18
        }
      ]
    },
    {
      "cell_type": "code",
      "source": [
        "a"
      ],
      "metadata": {
        "colab": {
          "base_uri": "https://localhost:8080/"
        },
        "id": "nrQeA56uY9d4",
        "outputId": "7424b5be-3767-4b3e-bca5-068d478f5a4d"
      },
      "execution_count": null,
      "outputs": [
        {
          "output_type": "execute_result",
          "data": {
            "text/plain": [
              "['Prashanth', 123, 'Hyderabad', 87, 98.876, 'lithium']"
            ]
          },
          "metadata": {},
          "execution_count": 19
        }
      ]
    },
    {
      "cell_type": "code",
      "source": [
        "a[-2]"
      ],
      "metadata": {
        "colab": {
          "base_uri": "https://localhost:8080/"
        },
        "id": "dyyS32wSY-H8",
        "outputId": "f12a9730-3d67-41f6-aa02-bf52b6ee6422"
      },
      "execution_count": null,
      "outputs": [
        {
          "output_type": "execute_result",
          "data": {
            "text/plain": [
              "98.876"
            ]
          },
          "metadata": {},
          "execution_count": 21
        }
      ]
    },
    {
      "cell_type": "code",
      "source": [
        "a[2]"
      ],
      "metadata": {
        "colab": {
          "base_uri": "https://localhost:8080/",
          "height": 36
        },
        "id": "liAPZGnsaGOY",
        "outputId": "882f94bd-f97b-4c1e-a8f5-92779dc6bf67"
      },
      "execution_count": null,
      "outputs": [
        {
          "output_type": "execute_result",
          "data": {
            "text/plain": [
              "'Hyderabad'"
            ],
            "application/vnd.google.colaboratory.intrinsic+json": {
              "type": "string"
            }
          },
          "metadata": {},
          "execution_count": 22
        }
      ]
    },
    {
      "cell_type": "code",
      "source": [
        "a[-4]"
      ],
      "metadata": {
        "colab": {
          "base_uri": "https://localhost:8080/",
          "height": 36
        },
        "id": "FX1Ig0pnaIzM",
        "outputId": "e6c96b59-8004-43fc-df3d-19501abb7638"
      },
      "execution_count": null,
      "outputs": [
        {
          "output_type": "execute_result",
          "data": {
            "text/plain": [
              "'Hyderabad'"
            ],
            "application/vnd.google.colaboratory.intrinsic+json": {
              "type": "string"
            }
          },
          "metadata": {},
          "execution_count": 23
        }
      ]
    },
    {
      "cell_type": "code",
      "source": [
        "a[0:6:1]#stacking : skipping the position"
      ],
      "metadata": {
        "colab": {
          "base_uri": "https://localhost:8080/"
        },
        "id": "s8nNbrgzaMMQ",
        "outputId": "45a3bed9-d939-41d3-bc12-2bc98c2a063b"
      },
      "execution_count": null,
      "outputs": [
        {
          "output_type": "execute_result",
          "data": {
            "text/plain": [
              "['Prashanth', 123, 'Hyderabad', 87, 98.876, 'lithium']"
            ]
          },
          "metadata": {},
          "execution_count": 24
        }
      ]
    },
    {
      "cell_type": "code",
      "source": [
        "a[0:6:3]"
      ],
      "metadata": {
        "colab": {
          "base_uri": "https://localhost:8080/"
        },
        "id": "peMaWi8GcYbK",
        "outputId": "963a29d5-dcd0-4ee6-ddaf-56ef4babada4"
      },
      "execution_count": null,
      "outputs": [
        {
          "output_type": "execute_result",
          "data": {
            "text/plain": [
              "['Prashanth', 87]"
            ]
          },
          "metadata": {},
          "execution_count": 25
        }
      ]
    },
    {
      "cell_type": "code",
      "source": [
        "a[0:6:2]"
      ],
      "metadata": {
        "colab": {
          "base_uri": "https://localhost:8080/"
        },
        "id": "zrGA7gDtcbFV",
        "outputId": "de0308bd-535f-4d53-87a1-663d345076c5"
      },
      "execution_count": null,
      "outputs": [
        {
          "output_type": "execute_result",
          "data": {
            "text/plain": [
              "['Prashanth', 'Hyderabad', 98.876]"
            ]
          },
          "metadata": {},
          "execution_count": 26
        }
      ]
    },
    {
      "cell_type": "code",
      "source": [
        "a"
      ],
      "metadata": {
        "id": "27jWgpOccfT_",
        "colab": {
          "base_uri": "https://localhost:8080/"
        },
        "outputId": "2d92f0e7-9423-4e6a-ff05-d6f1d1f776b4"
      },
      "execution_count": null,
      "outputs": [
        {
          "output_type": "execute_result",
          "data": {
            "text/plain": [
              "['Prashanth', 123, 'Hyderabad', 87, 98.876, 'lithium']"
            ]
          },
          "metadata": {},
          "execution_count": 27
        }
      ]
    },
    {
      "cell_type": "code",
      "source": [
        "a[-2:0]# we wont get any output"
      ],
      "metadata": {
        "colab": {
          "base_uri": "https://localhost:8080/"
        },
        "id": "HhgvxU3heSEk",
        "outputId": "7a8d3846-321a-41d8-fbeb-91b0ee78d9d3"
      },
      "execution_count": null,
      "outputs": [
        {
          "output_type": "execute_result",
          "data": {
            "text/plain": [
              "[]"
            ]
          },
          "metadata": {},
          "execution_count": 29
        }
      ]
    },
    {
      "cell_type": "code",
      "source": [
        "append\n",
        "insert\n",
        "extend\n",
        "pop\n",
        "remove\n",
        "clear\n",
        "count"
      ],
      "metadata": {
        "colab": {
          "base_uri": "https://localhost:8080/",
          "height": 211
        },
        "collapsed": true,
        "id": "ETMOOGRseUw_",
        "outputId": "8bc4858a-5906-466d-9324-d6085d4ab9c6"
      },
      "execution_count": null,
      "outputs": [
        {
          "output_type": "error",
          "ename": "NameError",
          "evalue": "name 'append' is not defined",
          "traceback": [
            "\u001b[0;31m---------------------------------------------------------------------------\u001b[0m",
            "\u001b[0;31mNameError\u001b[0m                                 Traceback (most recent call last)",
            "\u001b[0;32m<ipython-input-30-53c47d0f7068>\u001b[0m in \u001b[0;36m<cell line: 1>\u001b[0;34m()\u001b[0m\n\u001b[0;32m----> 1\u001b[0;31m \u001b[0mappend\u001b[0m\u001b[0;34m\u001b[0m\u001b[0;34m\u001b[0m\u001b[0m\n\u001b[0m\u001b[1;32m      2\u001b[0m \u001b[0minsert\u001b[0m\u001b[0;34m\u001b[0m\u001b[0;34m\u001b[0m\u001b[0m\n\u001b[1;32m      3\u001b[0m \u001b[0mextend\u001b[0m\u001b[0;34m\u001b[0m\u001b[0;34m\u001b[0m\u001b[0m\n\u001b[1;32m      4\u001b[0m \u001b[0mpop\u001b[0m\u001b[0;34m\u001b[0m\u001b[0;34m\u001b[0m\u001b[0m\n\u001b[1;32m      5\u001b[0m \u001b[0mremove\u001b[0m\u001b[0;34m\u001b[0m\u001b[0;34m\u001b[0m\u001b[0m\n",
            "\u001b[0;31mNameError\u001b[0m: name 'append' is not defined"
          ]
        }
      ]
    },
    {
      "cell_type": "code",
      "source": [
        "a"
      ],
      "metadata": {
        "colab": {
          "base_uri": "https://localhost:8080/"
        },
        "id": "9ODi6R7MgMYi",
        "outputId": "a232a387-8404-4dd6-fae3-2841fcdae62b"
      },
      "execution_count": null,
      "outputs": [
        {
          "output_type": "execute_result",
          "data": {
            "text/plain": [
              "['Prashanth', 123, 'Hyderabad', 87, 98.876, 'lithium']"
            ]
          },
          "metadata": {},
          "execution_count": 31
        }
      ]
    },
    {
      "cell_type": "code",
      "source": [
        "a.append(765) #add values or elements at last"
      ],
      "metadata": {
        "id": "pTiv9LrSgQt-"
      },
      "execution_count": null,
      "outputs": []
    },
    {
      "cell_type": "code",
      "source": [
        "a"
      ],
      "metadata": {
        "colab": {
          "base_uri": "https://localhost:8080/"
        },
        "id": "UeWUV72JgTxu",
        "outputId": "cfcfd4c9-2cbc-4c75-ca85-b5e1b95eb3ad"
      },
      "execution_count": null,
      "outputs": [
        {
          "output_type": "execute_result",
          "data": {
            "text/plain": [
              "['Prashanth',\n",
              " 123,\n",
              " 'Hyderabad',\n",
              " 87,\n",
              " 98.876,\n",
              " 'lithium',\n",
              " 765,\n",
              " 'Gaggu',\n",
              " 'India',\n",
              " 765]"
            ]
          },
          "metadata": {},
          "execution_count": 39
        }
      ]
    },
    {
      "cell_type": "code",
      "source": [
        "a.append('Gaggu')"
      ],
      "metadata": {
        "id": "SP5SBvbUgUmz"
      },
      "execution_count": null,
      "outputs": []
    },
    {
      "cell_type": "code",
      "source": [
        "a"
      ],
      "metadata": {
        "colab": {
          "base_uri": "https://localhost:8080/"
        },
        "id": "WrA12WVZgYGe",
        "outputId": "1b61d4ee-b198-4dd4-f5cc-ad98cadafa9f"
      },
      "execution_count": null,
      "outputs": [
        {
          "output_type": "execute_result",
          "data": {
            "text/plain": [
              "['Prashanth', 123, 'Hyderabad', 87, 98.876, 'lithium', 765, 'Gaggu']"
            ]
          },
          "metadata": {},
          "execution_count": 35
        }
      ]
    },
    {
      "cell_type": "code",
      "source": [
        "a.append('India')"
      ],
      "metadata": {
        "id": "408OI508gYjJ"
      },
      "execution_count": null,
      "outputs": []
    },
    {
      "cell_type": "code",
      "source": [
        "a"
      ],
      "metadata": {
        "colab": {
          "base_uri": "https://localhost:8080/"
        },
        "id": "CjuPlkUZgeol",
        "outputId": "40aa4f74-2622-43d7-90a6-ae0f7509b15e"
      },
      "execution_count": null,
      "outputs": [
        {
          "output_type": "execute_result",
          "data": {
            "text/plain": [
              "['Prashanth', 123, 'Hyderabad', 87, 98.876, 'lithium', 765, 'Gaggu', 'India']"
            ]
          },
          "metadata": {},
          "execution_count": 37
        }
      ]
    },
    {
      "cell_type": "code",
      "source": [
        "a.insert(1,'Yadav')"
      ],
      "metadata": {
        "id": "QsjqQbL2ge6t"
      },
      "execution_count": null,
      "outputs": []
    },
    {
      "cell_type": "code",
      "source": [
        "a"
      ],
      "metadata": {
        "id": "bxTrGM6xg26d",
        "outputId": "c78bc393-7fed-4207-db94-94dc19191be7",
        "colab": {
          "base_uri": "https://localhost:8080/"
        }
      },
      "execution_count": null,
      "outputs": [
        {
          "output_type": "execute_result",
          "data": {
            "text/plain": [
              "['Prashanth',\n",
              " 'Yadav',\n",
              " 123,\n",
              " 'Hyderabad',\n",
              " 87,\n",
              " 98.876,\n",
              " 'lithium',\n",
              " 765,\n",
              " 'Gaggu',\n",
              " 'India',\n",
              " 765]"
            ]
          },
          "metadata": {},
          "execution_count": 42
        }
      ]
    },
    {
      "cell_type": "code",
      "source": [
        "a.insert(10,'End')"
      ],
      "metadata": {
        "id": "BCYwe1eAg3Zt"
      },
      "execution_count": null,
      "outputs": []
    },
    {
      "cell_type": "code",
      "source": [
        "a"
      ],
      "metadata": {
        "colab": {
          "base_uri": "https://localhost:8080/"
        },
        "id": "aZ9na4gDhR0d",
        "outputId": "851fa793-0502-4854-dbef-6773a764dc63"
      },
      "execution_count": null,
      "outputs": [
        {
          "output_type": "execute_result",
          "data": {
            "text/plain": [
              "['Prashanth',\n",
              " 'Yadav',\n",
              " 123,\n",
              " 'Hyderabad',\n",
              " 87,\n",
              " 98.876,\n",
              " 'lithium',\n",
              " 765,\n",
              " 'Gaggu',\n",
              " 'India',\n",
              " 'End',\n",
              " 765]"
            ]
          },
          "metadata": {},
          "execution_count": 44
        }
      ]
    },
    {
      "cell_type": "code",
      "source": [
        "print(a)# to get in vertical position"
      ],
      "metadata": {
        "colab": {
          "base_uri": "https://localhost:8080/"
        },
        "id": "EbXFvEu5hSbu",
        "outputId": "bf32dd1f-52a7-4367-9bc7-1787fdbfbe14"
      },
      "execution_count": null,
      "outputs": [
        {
          "output_type": "stream",
          "name": "stdout",
          "text": [
            "['Prashanth', 'Yadav', 123, 'Hyderabad', 87, 98.876, 'lithium', 765, 'Gaggu', 'India', 'End', 765]\n"
          ]
        }
      ]
    },
    {
      "cell_type": "code",
      "source": [
        "a.pop(5)"
      ],
      "metadata": {
        "colab": {
          "base_uri": "https://localhost:8080/"
        },
        "id": "2YrqHp40hd1S",
        "outputId": "304c8191-acf8-405d-ac35-e4c05583b026"
      },
      "execution_count": null,
      "outputs": [
        {
          "output_type": "execute_result",
          "data": {
            "text/plain": [
              "98.876"
            ]
          },
          "metadata": {},
          "execution_count": 47
        }
      ]
    },
    {
      "cell_type": "code",
      "source": [
        "a"
      ],
      "metadata": {
        "colab": {
          "base_uri": "https://localhost:8080/"
        },
        "id": "U2iqEslEh2WB",
        "outputId": "4ee1fcff-826a-4390-b975-748ac7e1b7c7"
      },
      "execution_count": null,
      "outputs": [
        {
          "output_type": "execute_result",
          "data": {
            "text/plain": [
              "['Prashanth',\n",
              " 'Yadav',\n",
              " 123,\n",
              " 'Hyderabad',\n",
              " 87,\n",
              " 'lithium',\n",
              " 765,\n",
              " 'Gaggu',\n",
              " 'India',\n",
              " 'End',\n",
              " 765]"
            ]
          },
          "metadata": {},
          "execution_count": 48
        }
      ]
    },
    {
      "cell_type": "code",
      "source": [
        "print(a)"
      ],
      "metadata": {
        "colab": {
          "base_uri": "https://localhost:8080/"
        },
        "id": "-BEmbbQGh3d_",
        "outputId": "abec6094-b992-423c-a63a-292cc14de31f"
      },
      "execution_count": null,
      "outputs": [
        {
          "output_type": "stream",
          "name": "stdout",
          "text": [
            "['Prashanth', 'Yadav', 123, 'Hyderabad', 87, 'lithium', 765, 'Gaggu', 'India', 'End', 765]\n"
          ]
        }
      ]
    },
    {
      "cell_type": "code",
      "source": [
        "a.pop(-1)"
      ],
      "metadata": {
        "colab": {
          "base_uri": "https://localhost:8080/"
        },
        "id": "akGy76fiiXRe",
        "outputId": "03df0015-4b61-4440-d36a-5ff4411df91a"
      },
      "execution_count": null,
      "outputs": [
        {
          "output_type": "execute_result",
          "data": {
            "text/plain": [
              "765"
            ]
          },
          "metadata": {},
          "execution_count": 50
        }
      ]
    },
    {
      "cell_type": "code",
      "source": [
        "a"
      ],
      "metadata": {
        "colab": {
          "base_uri": "https://localhost:8080/"
        },
        "id": "LjaAvWSCh4u8",
        "outputId": "14ac5454-ca77-44f7-e6cb-93c8d0d38dea"
      },
      "execution_count": null,
      "outputs": [
        {
          "output_type": "execute_result",
          "data": {
            "text/plain": [
              "['Prashanth',\n",
              " 'Yadav',\n",
              " 123,\n",
              " 'Hyderabad',\n",
              " 87,\n",
              " 'lithium',\n",
              " 765,\n",
              " 'Gaggu',\n",
              " 'India',\n",
              " 'End']"
            ]
          },
          "metadata": {},
          "execution_count": 51
        }
      ]
    },
    {
      "cell_type": "code",
      "source": [
        "print(a)"
      ],
      "metadata": {
        "colab": {
          "base_uri": "https://localhost:8080/"
        },
        "id": "Lxh-mRShicE7",
        "outputId": "5f9693d9-d284-4e10-f32f-d1d921a3bd33"
      },
      "execution_count": null,
      "outputs": [
        {
          "output_type": "stream",
          "name": "stdout",
          "text": [
            "['Prashanth', 'Yadav', 123, 'Hyderabad', 87, 'lithium', 765, 'Gaggu', 'India', 'End']\n"
          ]
        }
      ]
    },
    {
      "cell_type": "code",
      "source": [
        "a.remove('Gaggu')"
      ],
      "metadata": {
        "id": "URx_0KBeidd5"
      },
      "execution_count": null,
      "outputs": []
    },
    {
      "cell_type": "code",
      "source": [
        "print(a)"
      ],
      "metadata": {
        "colab": {
          "base_uri": "https://localhost:8080/"
        },
        "id": "9fZCgmRniisw",
        "outputId": "9cea9972-0cce-4082-e339-bfa08f51fbae"
      },
      "execution_count": null,
      "outputs": [
        {
          "output_type": "stream",
          "name": "stdout",
          "text": [
            "['Prashanth', 'Yadav', 123, 'Hyderabad', 87, 'lithium', 765, 'India', 'End']\n"
          ]
        }
      ]
    },
    {
      "cell_type": "code",
      "source": [
        "a.count('Prashanth')"
      ],
      "metadata": {
        "colab": {
          "base_uri": "https://localhost:8080/"
        },
        "id": "EBumCCGxij3m",
        "outputId": "2f979dbe-7bf2-440c-cc6d-08fc6d69c95b"
      },
      "execution_count": null,
      "outputs": [
        {
          "output_type": "execute_result",
          "data": {
            "text/plain": [
              "1"
            ]
          },
          "metadata": {},
          "execution_count": 55
        }
      ]
    },
    {
      "cell_type": "code",
      "source": [
        "a.append(87)"
      ],
      "metadata": {
        "id": "9ST9NSi8iyz2"
      },
      "execution_count": null,
      "outputs": []
    },
    {
      "cell_type": "code",
      "source": [
        "a"
      ],
      "metadata": {
        "colab": {
          "base_uri": "https://localhost:8080/"
        },
        "id": "P4Fgs14ci2RS",
        "outputId": "856e126a-9877-4cbd-a618-e4e33372112a"
      },
      "execution_count": null,
      "outputs": [
        {
          "output_type": "execute_result",
          "data": {
            "text/plain": [
              "['Prashanth',\n",
              " 'Yadav',\n",
              " 123,\n",
              " 'Hyderabad',\n",
              " 87,\n",
              " 'lithium',\n",
              " 765,\n",
              " 'India',\n",
              " 'End',\n",
              " 87]"
            ]
          },
          "metadata": {},
          "execution_count": 57
        }
      ]
    },
    {
      "cell_type": "code",
      "source": [
        "a.count(87)"
      ],
      "metadata": {
        "colab": {
          "base_uri": "https://localhost:8080/"
        },
        "id": "ls0PX01qi2l5",
        "outputId": "6dbb5e20-73ee-47fa-9a4e-b5b3d21321ed"
      },
      "execution_count": null,
      "outputs": [
        {
          "output_type": "execute_result",
          "data": {
            "text/plain": [
              "2"
            ]
          },
          "metadata": {},
          "execution_count": 58
        }
      ]
    },
    {
      "cell_type": "code",
      "source": [
        "a.remove(87)"
      ],
      "metadata": {
        "id": "LYUiAwovi6Kz"
      },
      "execution_count": null,
      "outputs": []
    },
    {
      "cell_type": "code",
      "source": [
        "print(a)"
      ],
      "metadata": {
        "colab": {
          "base_uri": "https://localhost:8080/"
        },
        "id": "XitCmZNfi-Q2",
        "outputId": "f8d039b6-75f5-4fbb-96eb-3195fccfdf7d"
      },
      "execution_count": null,
      "outputs": [
        {
          "output_type": "stream",
          "name": "stdout",
          "text": [
            "['Prashanth', 'Yadav', 123, 'Hyderabad', 'lithium', 765, 'India', 'End', 87]\n"
          ]
        }
      ]
    },
    {
      "cell_type": "code",
      "source": [
        "m=['shiva',202,'Gaggu',204,'Prashanth',200]"
      ],
      "metadata": {
        "id": "OEmCTpSkjAas"
      },
      "execution_count": null,
      "outputs": []
    },
    {
      "cell_type": "code",
      "source": [
        "m"
      ],
      "metadata": {
        "colab": {
          "base_uri": "https://localhost:8080/"
        },
        "id": "_VU0nCyAj60i",
        "outputId": "8b243d0d-e935-482c-dc65-5ef10bc33c9f"
      },
      "execution_count": null,
      "outputs": [
        {
          "output_type": "execute_result",
          "data": {
            "text/plain": [
              "('shiva', 202, 'Gaggu', 204, 'Prashanth', 200)"
            ]
          },
          "metadata": {},
          "execution_count": 62
        }
      ]
    },
    {
      "cell_type": "code",
      "source": [
        "a.extend(m)"
      ],
      "metadata": {
        "id": "sys2L7r5j7iT"
      },
      "execution_count": null,
      "outputs": []
    },
    {
      "cell_type": "code",
      "source": [
        "print(a)"
      ],
      "metadata": {
        "colab": {
          "base_uri": "https://localhost:8080/"
        },
        "id": "ZYpA5ThUj9Y-",
        "outputId": "7d504920-9ed8-49ce-9b71-be247d408223"
      },
      "execution_count": null,
      "outputs": [
        {
          "output_type": "stream",
          "name": "stdout",
          "text": [
            "['Prashanth', 'Yadav', 123, 'Hyderabad', 'lithium', 765, 'India', 'End', 87, 'shiva', 202, 'Gaggu', 204, 'Prashanth', 200]\n"
          ]
        }
      ]
    },
    {
      "cell_type": "code",
      "source": [
        "a"
      ],
      "metadata": {
        "colab": {
          "base_uri": "https://localhost:8080/"
        },
        "id": "h8IbH6fjj_RB",
        "outputId": "bef7aafc-3960-4793-98ef-0860d34497ec"
      },
      "execution_count": null,
      "outputs": [
        {
          "output_type": "execute_result",
          "data": {
            "text/plain": [
              "['Prashanth',\n",
              " 'Yadav',\n",
              " 123,\n",
              " 'Hyderabad',\n",
              " 'lithium',\n",
              " 765,\n",
              " 'India',\n",
              " 'End',\n",
              " 87,\n",
              " 'shiva',\n",
              " 202,\n",
              " 'Gaggu',\n",
              " 204,\n",
              " 'Prashanth',\n",
              " 200]"
            ]
          },
          "metadata": {},
          "execution_count": 65
        }
      ]
    },
    {
      "cell_type": "code",
      "source": [
        "print(a)"
      ],
      "metadata": {
        "colab": {
          "base_uri": "https://localhost:8080/"
        },
        "id": "lpUa4JnkkAa5",
        "outputId": "f33ef988-58ab-4557-b176-28a0bc2a2a92"
      },
      "execution_count": null,
      "outputs": [
        {
          "output_type": "stream",
          "name": "stdout",
          "text": [
            "['Prashanth', 'Yadav', 123, 'Hyderabad', 'lithium', 765, 'India', 'End', 87, 'shiva', 202, 'Gaggu', 204, 'Prashanth', 200]\n"
          ]
        }
      ]
    },
    {
      "cell_type": "code",
      "source": [
        "m"
      ],
      "metadata": {
        "colab": {
          "base_uri": "https://localhost:8080/"
        },
        "id": "EZi9SG8HkBuh",
        "outputId": "3deeba92-0c2a-4afa-d21e-b6aeaf0783dd"
      },
      "execution_count": null,
      "outputs": [
        {
          "output_type": "execute_result",
          "data": {
            "text/plain": [
              "('shiva', 202, 'Gaggu', 204, 'Prashanth', 200)"
            ]
          },
          "metadata": {},
          "execution_count": 70
        }
      ]
    },
    {
      "cell_type": "code",
      "source": [
        "a+m"
      ],
      "metadata": {
        "colab": {
          "base_uri": "https://localhost:8080/"
        },
        "id": "2XSdLB5AkJyl",
        "outputId": "4a558f23-0ac2-4300-e678-d186f3267848"
      },
      "execution_count": null,
      "outputs": [
        {
          "output_type": "execute_result",
          "data": {
            "text/plain": [
              "['Prashanth',\n",
              " 'Yadav',\n",
              " 123,\n",
              " 'Hyderabad',\n",
              " 'lithium',\n",
              " 765,\n",
              " 'India',\n",
              " 'End',\n",
              " 87,\n",
              " 'shiva',\n",
              " 202,\n",
              " 'Gaggu',\n",
              " 204,\n",
              " 'Prashanth',\n",
              " 200,\n",
              " 'shiva',\n",
              " 202,\n",
              " 'Gaggu',\n",
              " 204,\n",
              " 'Prashanth',\n",
              " 200]"
            ]
          },
          "metadata": {},
          "execution_count": 72
        }
      ]
    },
    {
      "cell_type": "code",
      "source": [
        "print(a+m)"
      ],
      "metadata": {
        "colab": {
          "base_uri": "https://localhost:8080/"
        },
        "id": "LWbAjEaMkttm",
        "outputId": "a8080ec3-722b-4f85-fc47-cbd9f3898c7b"
      },
      "execution_count": null,
      "outputs": [
        {
          "output_type": "stream",
          "name": "stdout",
          "text": [
            "['Prashanth', 'Yadav', 123, 'Hyderabad', 'lithium', 765, 'India', 'End', 87, 'shiva', 202, 'Gaggu', 204, 'Prashanth', 200, 'shiva', 202, 'Gaggu', 204, 'Prashanth', 200]\n"
          ]
        }
      ]
    },
    {
      "cell_type": "code",
      "source": [
        "a.clear()"
      ],
      "metadata": {
        "id": "-DuNTHCxk508"
      },
      "execution_count": null,
      "outputs": []
    },
    {
      "cell_type": "code",
      "source": [
        "a"
      ],
      "metadata": {
        "id": "B4eEXiJRl5fi",
        "outputId": "49be61cc-3f83-46e8-de69-8d61eabacdaa",
        "colab": {
          "base_uri": "https://localhost:8080/"
        }
      },
      "execution_count": null,
      "outputs": [
        {
          "output_type": "execute_result",
          "data": {
            "text/plain": [
              "[]"
            ]
          },
          "metadata": {},
          "execution_count": 75
        }
      ]
    },
    {
      "cell_type": "code",
      "source": [
        "print(a)"
      ],
      "metadata": {
        "id": "bwbjZpFkl6Lm",
        "outputId": "77b3d398-f90c-416a-c6f0-17814e829f78",
        "colab": {
          "base_uri": "https://localhost:8080/"
        }
      },
      "execution_count": null,
      "outputs": [
        {
          "output_type": "stream",
          "name": "stdout",
          "text": [
            "[]\n"
          ]
        }
      ]
    },
    {
      "cell_type": "code",
      "source": [],
      "metadata": {
        "id": "xOoVq5TZl8kT"
      },
      "execution_count": null,
      "outputs": []
    }
  ]
}