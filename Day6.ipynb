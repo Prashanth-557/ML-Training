{
  "nbformat": 4,
  "nbformat_minor": 0,
  "metadata": {
    "colab": {
      "provenance": [],
      "authorship_tag": "ABX9TyNMKhXSmd3ESfG0v6YtqYX0",
      "include_colab_link": true
    },
    "kernelspec": {
      "name": "python3",
      "display_name": "Python 3"
    },
    "language_info": {
      "name": "python"
    }
  },
  "cells": [
    {
      "cell_type": "markdown",
      "metadata": {
        "id": "view-in-github",
        "colab_type": "text"
      },
      "source": [
        "<a href=\"https://colab.research.google.com/github/Prashanth-557/ML-Training/blob/main/Day6.ipynb\" target=\"_parent\"><img src=\"https://colab.research.google.com/assets/colab-badge.svg\" alt=\"Open In Colab\"/></a>"
      ]
    },
    {
      "cell_type": "code",
      "execution_count": null,
      "metadata": {
        "id": "BL_ZTvIbeyaM"
      },
      "outputs": [],
      "source": [
        "wap to know number is +ve -ve or zero"
      ]
    },
    {
      "cell_type": "code",
      "source": [
        "#conditions statements\n",
        "y=int(input(\"Enter any number:\"));\n",
        "if y>0:\n",
        "    print(\"positive\")\n",
        "elif y<0:\n",
        "    print(\"negative\")\n",
        "else:\n",
        "    print(\"zero\")"
      ],
      "metadata": {
        "colab": {
          "base_uri": "https://localhost:8080/"
        },
        "id": "N2zCWF77e-i7",
        "outputId": "3613dfc3-7a34-4dba-f2fb-59da50fd5659"
      },
      "execution_count": null,
      "outputs": [
        {
          "output_type": "stream",
          "name": "stdout",
          "text": [
            "0\n",
            "zero\n"
          ]
        }
      ]
    },
    {
      "cell_type": "code",
      "source": [
        "age=int(input(\"Enter your age:\"));\n",
        "if age>=18:\n",
        "    print(\"eligible for vote\")\n",
        "else:\n",
        "    print(\"not eligible for vote\")"
      ],
      "metadata": {
        "id": "bdl5-u7DfUGk",
        "colab": {
          "base_uri": "https://localhost:8080/",
          "height": 228
        },
        "outputId": "a51e9288-46d3-41d9-e930-0617563551d4"
      },
      "execution_count": 7,
      "outputs": [
        {
          "name": "stdout",
          "output_type": "stream",
          "text": [
            "Enter your age:\n"
          ]
        },
        {
          "output_type": "error",
          "ename": "ValueError",
          "evalue": "invalid literal for int() with base 10: ''",
          "traceback": [
            "\u001b[0;31m---------------------------------------------------------------------------\u001b[0m",
            "\u001b[0;31mValueError\u001b[0m                                Traceback (most recent call last)",
            "\u001b[0;32m<ipython-input-7-6ddb47067db1>\u001b[0m in \u001b[0;36m<cell line: 1>\u001b[0;34m()\u001b[0m\n\u001b[0;32m----> 1\u001b[0;31m \u001b[0mage\u001b[0m\u001b[0;34m=\u001b[0m\u001b[0mint\u001b[0m\u001b[0;34m(\u001b[0m\u001b[0minput\u001b[0m\u001b[0;34m(\u001b[0m\u001b[0;34m\"Enter your age:\"\u001b[0m\u001b[0;34m)\u001b[0m\u001b[0;34m)\u001b[0m\u001b[0;34m;\u001b[0m\u001b[0;34m\u001b[0m\u001b[0;34m\u001b[0m\u001b[0m\n\u001b[0m\u001b[1;32m      2\u001b[0m \u001b[0;32mif\u001b[0m \u001b[0mage\u001b[0m\u001b[0;34m>=\u001b[0m\u001b[0;36m18\u001b[0m\u001b[0;34m:\u001b[0m\u001b[0;34m\u001b[0m\u001b[0;34m\u001b[0m\u001b[0m\n\u001b[1;32m      3\u001b[0m     \u001b[0mprint\u001b[0m\u001b[0;34m(\u001b[0m\u001b[0;34m\"eligible for vote\"\u001b[0m\u001b[0;34m)\u001b[0m\u001b[0;34m\u001b[0m\u001b[0;34m\u001b[0m\u001b[0m\n\u001b[1;32m      4\u001b[0m \u001b[0;32melse\u001b[0m\u001b[0;34m:\u001b[0m\u001b[0;34m\u001b[0m\u001b[0;34m\u001b[0m\u001b[0m\n\u001b[1;32m      5\u001b[0m     \u001b[0mprint\u001b[0m\u001b[0;34m(\u001b[0m\u001b[0;34m\"not eligible for vote\"\u001b[0m\u001b[0;34m)\u001b[0m\u001b[0;34m\u001b[0m\u001b[0;34m\u001b[0m\u001b[0m\n",
            "\u001b[0;31mValueError\u001b[0m: invalid literal for int() with base 10: ''"
          ]
        }
      ]
    },
    {
      "cell_type": "code",
      "source": [
        "a=\"Sangareddy\"\n",
        "a"
      ],
      "metadata": {
        "id": "I7CW7BXHfxts",
        "colab": {
          "base_uri": "https://localhost:8080/",
          "height": 36
        },
        "outputId": "4c07955b-2ff6-44f4-f08b-d0dae3206428"
      },
      "execution_count": 12,
      "outputs": [
        {
          "output_type": "execute_result",
          "data": {
            "text/plain": [
              "'Sangareddy'"
            ],
            "application/vnd.google.colaboratory.intrinsic+json": {
              "type": "string"
            }
          },
          "metadata": {},
          "execution_count": 12
        }
      ]
    },
    {
      "cell_type": "code",
      "source": [
        "a.upper()\n"
      ],
      "metadata": {
        "id": "W7pemXR0kc3U",
        "colab": {
          "base_uri": "https://localhost:8080/",
          "height": 36
        },
        "outputId": "63185df0-563b-410b-8349-f32444a9df42"
      },
      "execution_count": 13,
      "outputs": [
        {
          "output_type": "execute_result",
          "data": {
            "text/plain": [
              "'SANGAREDDY'"
            ],
            "application/vnd.google.colaboratory.intrinsic+json": {
              "type": "string"
            }
          },
          "metadata": {},
          "execution_count": 13
        }
      ]
    },
    {
      "cell_type": "code",
      "source": [
        "a.lower()"
      ],
      "metadata": {
        "id": "nj08bweAkiGu",
        "colab": {
          "base_uri": "https://localhost:8080/",
          "height": 36
        },
        "outputId": "daaafa89-f963-4cc8-debc-910434f0e089"
      },
      "execution_count": 14,
      "outputs": [
        {
          "output_type": "execute_result",
          "data": {
            "text/plain": [
              "'sangareddy'"
            ],
            "application/vnd.google.colaboratory.intrinsic+json": {
              "type": "string"
            }
          },
          "metadata": {},
          "execution_count": 14
        }
      ]
    },
    {
      "cell_type": "code",
      "source": [
        "a.count('a')"
      ],
      "metadata": {
        "id": "A9Oev4ndkjLz",
        "colab": {
          "base_uri": "https://localhost:8080/"
        },
        "outputId": "2a2c077f-8b59-4922-d997-2fb8e3b7d193"
      },
      "execution_count": 15,
      "outputs": [
        {
          "output_type": "execute_result",
          "data": {
            "text/plain": [
              "2"
            ]
          },
          "metadata": {},
          "execution_count": 15
        }
      ]
    },
    {
      "cell_type": "code",
      "source": [
        "a.isalpha()\n"
      ],
      "metadata": {
        "id": "8uNe8PuuklGR",
        "colab": {
          "base_uri": "https://localhost:8080/"
        },
        "outputId": "c4484f70-e875-42c0-9288-17f8ed7f0841"
      },
      "execution_count": 16,
      "outputs": [
        {
          "output_type": "execute_result",
          "data": {
            "text/plain": [
              "True"
            ]
          },
          "metadata": {},
          "execution_count": 16
        }
      ]
    },
    {
      "cell_type": "code",
      "source": [
        "type(a)"
      ],
      "metadata": {
        "colab": {
          "base_uri": "https://localhost:8080/"
        },
        "id": "aif2BbHvk3Mg",
        "outputId": "3b498433-8a4d-40c4-9c04-cb404951f927"
      },
      "execution_count": 17,
      "outputs": [
        {
          "output_type": "execute_result",
          "data": {
            "text/plain": [
              "str"
            ]
          },
          "metadata": {},
          "execution_count": 17
        }
      ]
    },
    {
      "cell_type": "code",
      "source": [
        "a =str(input(\"Enter any name:\"))\n",
        "if a.startswith(\"T\") or a.startswith(\"t\"):\n",
        "  print(\"True\")\n",
        "else:\n",
        "  print(\"False\")"
      ],
      "metadata": {
        "colab": {
          "base_uri": "https://localhost:8080/"
        },
        "id": "kMvOsVQ-lFzs",
        "outputId": "b99a17d6-e0d4-4350-91cf-aef54019a4dc"
      },
      "execution_count": 25,
      "outputs": [
        {
          "output_type": "stream",
          "name": "stdout",
          "text": [
            "Enter any name:tiger\n",
            "True\n"
          ]
        }
      ]
    },
    {
      "cell_type": "code",
      "source": [
        "a =str(input(\"Enter any name:\"))\n",
        "if a[0]==\"T\" or a[0]==\"t\":\n",
        "  print(\"True\")\n",
        "else:\n",
        "  print(\"False\")"
      ],
      "metadata": {
        "colab": {
          "base_uri": "https://localhost:8080/"
        },
        "id": "p4NYR0Omle_P",
        "outputId": "aa51282e-20e4-4c14-9a22-cb782075f455"
      },
      "execution_count": 28,
      "outputs": [
        {
          "output_type": "stream",
          "name": "stdout",
          "text": [
            "Enter any name:tiger\n",
            "True\n"
          ]
        }
      ]
    },
    {
      "cell_type": "code",
      "source": [
        "a =str(input(\"Enter any name:\"))\n",
        "if a[0]==\"S\" or a[0]==\"s\":\n",
        "  print(\"True\")\n",
        "elif a[0]==\"H\" or a[0]==\"h\":\n",
        "  print(\"True\")\n",
        "elif a[0]==\"M\" or a[0]==\"m\":\n",
        "  print(\"True\")\n",
        "else:\n",
        "  print(\"False\")"
      ],
      "metadata": {
        "colab": {
          "base_uri": "https://localhost:8080/"
        },
        "id": "7VLkxT6flff3",
        "outputId": "ebf1a85d-7d82-47df-b4a2-202657ffdc6c"
      },
      "execution_count": 29,
      "outputs": [
        {
          "output_type": "stream",
          "name": "stdout",
          "text": [
            "Enter any name:Shiva\n",
            "True\n"
          ]
        }
      ]
    },
    {
      "cell_type": "code",
      "source": [
        "a = input(\"Enter any name: \")\n",
        "if a[end].lower() in ('s', 'h', 'm'):\n",
        "  print(\"True\")\n",
        "else:\n",
        "  print(\"False\")\n"
      ],
      "metadata": {
        "id": "d-wTG8-EoJ7W"
      },
      "execution_count": null,
      "outputs": []
    },
    {
      "cell_type": "code",
      "source": [],
      "metadata": {
        "id": "nWBinxZHoeBy"
      },
      "execution_count": 36,
      "outputs": []
    }
  ]
}